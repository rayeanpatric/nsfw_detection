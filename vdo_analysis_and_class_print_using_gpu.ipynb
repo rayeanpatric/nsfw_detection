# GPU Code

import ffmpeg
import cv2
from nudenet import NudeDetector
from datetime import timedelta
import os

# Initialize the NudeNet detector
detector = NudeDetector()

# Paths
input_video = "/workspace/nudenet/GoT/2.mp4"
converted_video = "converted_video.mp4"
censored_output_video = "censored_video.mp4"
temp_image_path = "temp_frame.jpg"  # Temporary file for each frame
temp_censored_image_path = "temp_censored_frame.jpg"  # Temporary censored image path

# Convert to H.265 format with CUDA acceleration and overwriting permission
ffmpeg.input(input_video, hwaccel='cuda').output(converted_video, vcodec='h264_nvenc', crf=28, preset='fast').overwrite_output().run()

# Open the converted video using OpenCV
cap = cv2.VideoCapture(converted_video)
fps = cap.get(cv2.CAP_PROP_FPS)  # Get the original frame rate
width = int(cap.get(cv2.CAP_PROP_FRAME_WIDTH))
height = int(cap.get(cv2.CAP_PROP_FRAME_HEIGHT))

# Define video writer for the censored video
fourcc = cv2.VideoWriter_fourcc(*'mp4v')
out = cv2.VideoWriter(censored_output_video, fourcc, fps, (width, height))

# List to store nudity timestamps
nudity_timestamps = []

# List of classes to ignore
ignored_classes = {
    "FEMALE_GENITALIA_COVERED",
    "FACE_FEMALE",
    "BELLY_COVERED",
    "FEET_COVERED",
    "ARMPITS_COVERED",
    "ARMPITS_EXPOSED",
    "BELLY_EXPOSED",
    "ANUS_COVERED",
    "FEMALE_BREAST_COVERED",
    "BUTTOCKS_COVERED",
    "FACE_MALE"
}

frame_count = 0
while cap.isOpened():
    ret, frame = cap.read()
    if not ret:
        break

    # Save the frame as a temporary image file
    cv2.imwrite(temp_image_path, frame)

    # Detect nudity in the saved image
    detections = detector.detect(temp_image_path)

    # Filter detections to exclude ignored classes
    valid_detections = [d for d in detections if d['class'] not in ignored_classes]

    # Sort detections by score, descending order
    valid_detections = sorted(valid_detections, key=lambda x: x['score'], reverse=True)

    # If there are valid detections, apply censoring and log details
    if valid_detections and valid_detections[0]['score'] >= 0.25:  # Threshold check
        # Capture the timestamp and classes with scores
        timestamp = timedelta(seconds=frame_count // fps)
        frame_detections = [f"{d['class']} ({d['score']:.2f})" for d in valid_detections]
        nudity_timestamps.append(f"{str(timestamp)}: " + ", ".join(frame_detections))

        # Censor the frame by applying censoring only to valid detections
        detector.censor(temp_image_path, output_path=temp_censored_image_path)

        # Load the censored frame back into memory
        censored_frame = cv2.imread(temp_censored_image_path)

        # Use the censored frame
        frame = censored_frame

    # Write the frame (censored or not) to the output video
    out.write(frame)
    frame_count += 1

cap.release()
out.release()

# Remove the temporary image files
if os.path.exists(temp_image_path):
    os.remove(temp_image_path)
if os.path.exists(temp_censored_image_path):
    os.remove(temp_censored_image_path)

# Output the results
print("This video contains nudity. Press 'i' for details.")
input("Press 'i' to view timestamps: ")
for entry in nudity_timestamps:
    print(entry)

print(f"Censored video saved as {censored_output_video}")
