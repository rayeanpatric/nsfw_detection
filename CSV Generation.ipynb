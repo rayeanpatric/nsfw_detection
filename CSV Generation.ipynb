{
 "cells": [
  {
   "cell_type": "code",
   "execution_count": null,
   "id": "cc132ed8-8931-4321-b2db-bd3fd146b085",
   "metadata": {},
   "outputs": [],
   "source": [
    "pip install nudenet"
   ]
  },
  {
   "cell_type": "code",
   "execution_count": 2,
   "id": "daf3e21e-d352-4672-8a58-d6c12d45e732",
   "metadata": {},
   "outputs": [],
   "source": [
    "from nudenet import NudeDetector"
   ]
  },
  {
   "cell_type": "code",
   "execution_count": 3,
   "id": "6d0226d4-70bc-4eaf-9ed3-22fab30b0e09",
   "metadata": {},
   "outputs": [],
   "source": [
    "detector = NudeDetector()"
   ]
  },
  {
   "cell_type": "code",
   "execution_count": null,
   "id": "d00b300d-59c5-42ab-a5c9-aa773d7585c0",
   "metadata": {},
   "outputs": [],
   "source": [
    "detector.detect('/path/to/the/image.jpg') # Returns list of detections"
   ]
  },
  {
   "cell_type": "code",
   "execution_count": null,
   "id": "e18b5d6b-5250-4527-a21c-3b965b8c3b9a",
   "metadata": {},
   "outputs": [],
   "source": [
    "import os\n",
    "import csv\n",
    "from nudenet import NudeDetector\n",
    "\n",
    "# Initialize the NudeDetector\n",
    "detector = NudeDetector()\n",
    "\n",
    "# Define the path to the folder containing images and the output CSV file\n",
    "image_folder = '/path/to/the/image/folder'\n",
    "output_csv = 'nudity_detections.csv'\n",
    "\n",
    "# List of all possible classes from the model\n",
    "all_classes = [\n",
    "    \"FEMALE_GENITALIA_COVERED\", \"FACE_FEMALE\", \"BUTTOCKS_EXPOSED\", \"FEMALE_BREAST_EXPOSED\",\n",
    "    \"FEMALE_GENITALIA_EXPOSED\", \"MALE_BREAST_EXPOSED\", \"ANUS_EXPOSED\", \"FEET_EXPOSED\",\n",
    "    \"BELLY_COVERED\", \"FEET_COVERED\", \"ARMPITS_COVERED\", \"ARMPITS_EXPOSED\",\n",
    "    \"FACE_MALE\", \"BELLY_EXPOSED\", \"MALE_GENITALIA_EXPOSED\", \"ANUS_COVERED\",\n",
    "    \"FEMALE_BREAST_COVERED\", \"BUTTOCKS_COVERED\"\n",
    "]\n",
    "\n",
    "# Create and initialize the CSV file\n",
    "with open(output_csv, mode='w', newline='') as file:\n",
    "    writer = csv.writer(file)\n",
    "    header = ['image_path'] + all_classes\n",
    "    writer.writerow(header)\n",
    "\n",
    "    # Loop through each image in the folder\n",
    "    for image_name in os.listdir(image_folder):\n",
    "        image_path = os.path.join(image_folder, image_name)\n",
    "        if not image_name.lower().endswith(('jpg', 'jpeg', 'png')):\n",
    "            continue  # Skip non-image files\n",
    "\n",
    "        # Run detection on the image\n",
    "        detections = detector.detect(image_path)\n",
    "\n",
    "        # Initialize a dictionary for this image with zero scores for each class\n",
    "        detection_row = {cls: 0.0 for cls in all_classes}\n",
    "        detection_row['image_path'] = image_path\n",
    "\n",
    "        # Populate the dictionary with detection scores from the model\n",
    "        for detection in detections:\n",
    "            detected_class = detection['class']\n",
    "            score = detection['score']\n",
    "            detection_row[detected_class] = max(detection_row[detected_class], score)  # Store max score for each class\n",
    "\n",
    "        # Write the row to the CSV file\n",
    "        writer.writerow([detection_row['image_path']] + [detection_row[cls] for cls in all_classes])\n",
    "\n",
    "print(\"Detection complete. Results saved to\", output_csv)\n"
   ]
  }
 ],
 "metadata": {
  "kernelspec": {
   "display_name": "Python 3 (ipykernel)",
   "language": "python",
   "name": "python3"
  },
  "language_info": {
   "codemirror_mode": {
    "name": "ipython",
    "version": 3
   },
   "file_extension": ".py",
   "mimetype": "text/x-python",
   "name": "python",
   "nbconvert_exporter": "python",
   "pygments_lexer": "ipython3",
   "version": "3.10.12"
  }
 },
 "nbformat": 4,
 "nbformat_minor": 5
}
