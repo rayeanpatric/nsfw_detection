{
 "cells": [
  {
   "cell_type": "code",
   "execution_count": 1,
   "id": "cc132ed8-8931-4321-b2db-bd3fd146b085",
   "metadata": {},
   "outputs": [
    {
     "name": "stdout",
     "output_type": "stream",
     "text": [
      "Collecting nudenet\n",
      "  Downloading nudenet-3.4.2-py3-none-any.whl.metadata (4.3 kB)\n",
      "Requirement already satisfied: numpy in /usr/local/lib/python3.10/dist-packages (from nudenet) (1.24.4)\n",
      "Collecting onnxruntime (from nudenet)\n",
      "  Downloading onnxruntime-1.20.0-cp310-cp310-manylinux_2_27_x86_64.manylinux_2_28_x86_64.whl.metadata (4.4 kB)\n",
      "Collecting opencv-python-headless (from nudenet)\n",
      "  Downloading opencv_python_headless-4.10.0.84-cp37-abi3-manylinux_2_17_x86_64.manylinux2014_x86_64.whl.metadata (20 kB)\n",
      "Collecting coloredlogs (from onnxruntime->nudenet)\n",
      "  Downloading coloredlogs-15.0.1-py2.py3-none-any.whl.metadata (12 kB)\n",
      "Requirement already satisfied: flatbuffers in /usr/local/lib/python3.10/dist-packages (from onnxruntime->nudenet) (23.5.26)\n",
      "Requirement already satisfied: packaging in /usr/local/lib/python3.10/dist-packages (from onnxruntime->nudenet) (23.2)\n",
      "Requirement already satisfied: protobuf in /usr/local/lib/python3.10/dist-packages (from onnxruntime->nudenet) (4.25.3)\n",
      "Collecting sympy (from onnxruntime->nudenet)\n",
      "  Downloading sympy-1.13.3-py3-none-any.whl.metadata (12 kB)\n",
      "Collecting humanfriendly>=9.1 (from coloredlogs->onnxruntime->nudenet)\n",
      "  Downloading humanfriendly-10.0-py2.py3-none-any.whl.metadata (9.2 kB)\n",
      "Collecting mpmath<1.4,>=1.1.0 (from sympy->onnxruntime->nudenet)\n",
      "  Downloading mpmath-1.3.0-py3-none-any.whl.metadata (8.6 kB)\n",
      "Downloading nudenet-3.4.2-py3-none-any.whl (10.6 MB)\n",
      "\u001b[2K   \u001b[90m━━━━━━━━━━━━━━━━━━━━━━━━━━━━━━━━━━━━━━━━\u001b[0m \u001b[32m10.6/10.6 MB\u001b[0m \u001b[31m5.9 MB/s\u001b[0m eta \u001b[36m0:00:00\u001b[0ma \u001b[36m0:00:01\u001b[0m\n",
      "\u001b[?25hDownloading onnxruntime-1.20.0-cp310-cp310-manylinux_2_27_x86_64.manylinux_2_28_x86_64.whl (13.3 MB)\n",
      "\u001b[2K   \u001b[90m━━━━━━━━━━━━━━━━━━━━━━━━━━━━━━━━━━━━━━━━\u001b[0m \u001b[32m13.3/13.3 MB\u001b[0m \u001b[31m12.3 MB/s\u001b[0m eta \u001b[36m0:00:00\u001b[0ma \u001b[36m0:00:01\u001b[0m\n",
      "\u001b[?25hDownloading opencv_python_headless-4.10.0.84-cp37-abi3-manylinux_2_17_x86_64.manylinux2014_x86_64.whl (49.9 MB)\n",
      "\u001b[2K   \u001b[90m━━━━━━━━━━━━━━━━━━━━━━━━━━━━━━━━━━━━━━━━\u001b[0m \u001b[32m49.9/49.9 MB\u001b[0m \u001b[31m28.8 MB/s\u001b[0m eta \u001b[36m0:00:00\u001b[0ma \u001b[36m0:00:01\u001b[0m\n",
      "\u001b[?25hDownloading coloredlogs-15.0.1-py2.py3-none-any.whl (46 kB)\n",
      "Downloading sympy-1.13.3-py3-none-any.whl (6.2 MB)\n",
      "\u001b[2K   \u001b[90m━━━━━━━━━━━━━━━━━━━━━━━━━━━━━━━━━━━━━━━━\u001b[0m \u001b[32m6.2/6.2 MB\u001b[0m \u001b[31m27.7 MB/s\u001b[0m eta \u001b[36m0:00:00\u001b[0ma \u001b[36m0:00:01\u001b[0m\n",
      "\u001b[?25hDownloading humanfriendly-10.0-py2.py3-none-any.whl (86 kB)\n",
      "Downloading mpmath-1.3.0-py3-none-any.whl (536 kB)\n",
      "\u001b[2K   \u001b[90m━━━━━━━━━━━━━━━━━━━━━━━━━━━━━━━━━━━━━━━━\u001b[0m \u001b[32m536.2/536.2 kB\u001b[0m \u001b[31m21.3 MB/s\u001b[0m eta \u001b[36m0:00:00\u001b[0m\n",
      "\u001b[?25hInstalling collected packages: mpmath, sympy, opencv-python-headless, humanfriendly, coloredlogs, onnxruntime, nudenet\n",
      "Successfully installed coloredlogs-15.0.1 humanfriendly-10.0 mpmath-1.3.0 nudenet-3.4.2 onnxruntime-1.20.0 opencv-python-headless-4.10.0.84 sympy-1.13.3\n",
      "\u001b[33mWARNING: Running pip as the 'root' user can result in broken permissions and conflicting behaviour with the system package manager, possibly rendering your system unusable.It is recommended to use a virtual environment instead: https://pip.pypa.io/warnings/venv. Use the --root-user-action option if you know what you are doing and want to suppress this warning.\u001b[0m\u001b[33m\n",
      "\u001b[0mNote: you may need to restart the kernel to use updated packages.\n"
     ]
    }
   ],
   "source": [
    "pip install nudenet"
   ]
  },
  {
   "cell_type": "code",
   "execution_count": 2,
   "id": "daf3e21e-d352-4672-8a58-d6c12d45e732",
   "metadata": {},
   "outputs": [],
   "source": [
    "from nudenet import NudeDetector"
   ]
  },
  {
   "cell_type": "code",
   "execution_count": 3,
   "id": "6d0226d4-70bc-4eaf-9ed3-22fab30b0e09",
   "metadata": {},
   "outputs": [],
   "source": [
    "detector = NudeDetector()"
   ]
  },
  {
   "cell_type": "code",
   "execution_count": 5,
   "id": "d00b300d-59c5-42ab-a5c9-aa773d7585c0",
   "metadata": {},
   "outputs": [
    {
     "data": {
      "text/plain": [
       "[{'class': 'FEMALE_BREAST_EXPOSED',\n",
       "  'score': 0.7552781105041504,\n",
       "  'box': [250, 344, 59, 70]},\n",
       " {'class': 'FEMALE_BREAST_EXPOSED',\n",
       "  'score': 0.7538821697235107,\n",
       "  'box': [211, 332, 50, 66]},\n",
       " {'class': 'FACE_FEMALE',\n",
       "  'score': 0.7010846734046936,\n",
       "  'box': [222, 204, 54, 67]},\n",
       " {'class': 'ARMPITS_EXPOSED',\n",
       "  'score': 0.6932762861251831,\n",
       "  'box': [290, 320, 27, 39]},\n",
       " {'class': 'FACE_MALE', 'score': 0.649055004119873, 'box': [117, 13, 56, 74]},\n",
       " {'class': 'MALE_GENITALIA_EXPOSED',\n",
       "  'score': 0.31317541003227234,\n",
       "  'box': [166, 228, 81, 78]}]"
      ]
     },
     "execution_count": 5,
     "metadata": {},
     "output_type": "execute_result"
    }
   ],
   "source": [
    "detector.detect('train/75581037_057_e326_jpg.rf.04971f996d67ec0864525ccf5d13d50f.jpg') # Returns list of detections"
   ]
  },
  {
   "cell_type": "code",
   "execution_count": null,
   "id": "e18b5d6b-5250-4527-a21c-3b965b8c3b9a",
   "metadata": {},
   "outputs": [],
   "source": [
    "import os\n",
    "import csv\n",
    "from nudenet import NudeDetector\n",
    "\n",
    "# Initialize the NudeDetector\n",
    "detector = NudeDetector()\n",
    "\n",
    "# Define the path to the folder containing images and the output CSV file\n",
    "image_folder = '/workspace/nudenet/train'\n",
    "output_csv = 'nudity_detections.csv'\n",
    "\n",
    "# List of all possible classes from the model\n",
    "all_classes = [\n",
    "    \"FEMALE_GENITALIA_COVERED\", \"FACE_FEMALE\", \"BUTTOCKS_EXPOSED\", \"FEMALE_BREAST_EXPOSED\",\n",
    "    \"FEMALE_GENITALIA_EXPOSED\", \"MALE_BREAST_EXPOSED\", \"ANUS_EXPOSED\", \"FEET_EXPOSED\",\n",
    "    \"BELLY_COVERED\", \"FEET_COVERED\", \"ARMPITS_COVERED\", \"ARMPITS_EXPOSED\",\n",
    "    \"FACE_MALE\", \"BELLY_EXPOSED\", \"MALE_GENITALIA_EXPOSED\", \"ANUS_COVERED\",\n",
    "    \"FEMALE_BREAST_COVERED\", \"BUTTOCKS_COVERED\"\n",
    "]\n",
    "\n",
    "# Create and initialize the CSV file\n",
    "with open(output_csv, mode='w', newline='') as file:\n",
    "    writer = csv.writer(file)\n",
    "    header = ['image_path'] + all_classes\n",
    "    writer.writerow(header)\n",
    "\n",
    "    # Loop through each image in the folder\n",
    "    for image_name in os.listdir(image_folder):\n",
    "        image_path = os.path.join(image_folder, image_name)\n",
    "        if not image_name.lower().endswith(('jpg', 'jpeg', 'png')):\n",
    "            continue  # Skip non-image files\n",
    "\n",
    "        # Run detection on the image\n",
    "        detections = detector.detect(image_path)\n",
    "\n",
    "        # Initialize a dictionary for this image with zero scores for each class\n",
    "        detection_row = {cls: 0.0 for cls in all_classes}\n",
    "        detection_row['image_path'] = image_path\n",
    "\n",
    "        # Populate the dictionary with detection scores from the model\n",
    "        for detection in detections:\n",
    "            detected_class = detection['class']\n",
    "            score = detection['score']\n",
    "            detection_row[detected_class] = max(detection_row[detected_class], score)  # Store max score for each class\n",
    "\n",
    "        # Write the row to the CSV file\n",
    "        writer.writerow([detection_row['image_path']] + [detection_row[cls] for cls in all_classes])\n",
    "\n",
    "print(\"Detection complete. Results saved to\", output_csv)\n"
   ]
  },
  {
   "cell_type": "code",
   "execution_count": 2,
   "id": "e585ab02-c8f8-46c1-9320-39aa544a14ee",
   "metadata": {},
   "outputs": [
    {
     "name": "stdout",
     "output_type": "stream",
     "text": [
      "Renaming complete. Images are now named sequentially.\n"
     ]
    }
   ],
   "source": [
    "import os\n",
    "\n",
    "# Define the folder path containing the images\n",
    "image_folder = '/workspace/nudenet/train'\n",
    "\n",
    "# List all files in the directory and filter for image files only\n",
    "image_files = [f for f in os.listdir(image_folder) if f.lower().endswith(('jpg', 'jpeg', 'png'))]\n",
    "\n",
    "# Sort files to ensure consistency in naming (optional but recommended)\n",
    "image_files.sort()\n",
    "\n",
    "# Rename each image file\n",
    "for idx, image_name in enumerate(image_files, start=1):\n",
    "    # Construct the old file path\n",
    "    old_path = os.path.join(image_folder, image_name)\n",
    "    \n",
    "    # Define the new file name with the desired format\n",
    "    new_name = f\"nudeclass{idx}{os.path.splitext(image_name)[1]}\"\n",
    "    new_path = os.path.join(image_folder, new_name)\n",
    "    \n",
    "    # Rename the file\n",
    "    os.rename(old_path, new_path)\n",
    "\n",
    "print(\"Renaming complete. Images are now named sequentially.\")\n"
   ]
  },
  {
   "cell_type": "code",
   "execution_count": null,
   "id": "cc74b97d-d4cc-4718-8c39-f8dcbbaf7d98",
   "metadata": {},
   "outputs": [],
   "source": []
  }
 ],
 "metadata": {
  "kernelspec": {
   "display_name": "Python 3 (ipykernel)",
   "language": "python",
   "name": "python3"
  },
  "language_info": {
   "codemirror_mode": {
    "name": "ipython",
    "version": 3
   },
   "file_extension": ".py",
   "mimetype": "text/x-python",
   "name": "python",
   "nbconvert_exporter": "python",
   "pygments_lexer": "ipython3",
   "version": "3.10.12"
  }
 },
 "nbformat": 4,
 "nbformat_minor": 5
}
