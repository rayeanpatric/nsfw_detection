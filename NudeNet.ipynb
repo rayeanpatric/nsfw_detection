{
 "cells": [
  {
   "cell_type": "code",
   "execution_count": null,
   "id": "f3bb8f2a-a14f-44c3-88ff-77a32b55d550",
   "metadata": {},
   "outputs": [],
   "source": [
    "!pip install nudenet"
   ]
  },
  {
   "cell_type": "code",
   "execution_count": 1,
   "id": "0fec1de7-9ff1-4624-9ba4-72a2597aeef1",
   "metadata": {},
   "outputs": [],
   "source": [
    "from nudenet import NudeDetector"
   ]
  },
  {
   "cell_type": "code",
   "execution_count": 2,
   "id": "dfe6620e-e39f-44ff-86ce-b0837f5eb3f2",
   "metadata": {},
   "outputs": [],
   "source": [
    "detector = NudeDetector()"
   ]
  },
  {
   "cell_type": "code",
   "execution_count": null,
   "id": "a7dade7a-9761-44d4-897b-a11d46a0166d",
   "metadata": {},
   "outputs": [],
   "source": [
    "detector.censor('/path/to/the/image.jpg') # Returns list of detections"
   ]
  }
 ],
 "metadata": {
  "kernelspec": {
   "display_name": "Python 3 (ipykernel)",
   "language": "python",
   "name": "python3"
  },
  "language_info": {
   "codemirror_mode": {
    "name": "ipython",
    "version": 3
   },
   "file_extension": ".py",
   "mimetype": "text/x-python",
   "name": "python",
   "nbconvert_exporter": "python",
   "pygments_lexer": "ipython3",
   "version": "3.10.12"
  }
 },
 "nbformat": 4,
 "nbformat_minor": 5
}
